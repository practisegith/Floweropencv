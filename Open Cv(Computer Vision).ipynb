{
 "cells": [
  {
   "cell_type": "code",
   "execution_count": 2,
   "id": "0176abea",
   "metadata": {},
   "outputs": [
    {
     "name": "stdout",
     "output_type": "stream",
     "text": [
      "Requirement already satisfied: opencv-python in c:\\users\\swaru\\appdata\\local\\programs\\python\\python310\\lib\\site-packages (4.7.0.72)Note: you may need to restart the kernel to use updated packages.\n",
      "\n",
      "Requirement already satisfied: numpy>=1.17.0 in c:\\users\\swaru\\appdata\\local\\programs\\python\\python310\\lib\\site-packages (from opencv-python) (1.22.3)\n"
     ]
    },
    {
     "name": "stderr",
     "output_type": "stream",
     "text": [
      "\n",
      "[notice] A new release of pip is available: 23.0.1 -> 23.1.2\n",
      "[notice] To update, run: python.exe -m pip install --upgrade pip\n"
     ]
    }
   ],
   "source": [
    "pip install opencv-python\n"
   ]
  },
  {
   "cell_type": "code",
   "execution_count": 2,
   "id": "40c4c123",
   "metadata": {},
   "outputs": [],
   "source": [
    "import cv2"
   ]
  },
  {
   "cell_type": "code",
   "execution_count": 3,
   "id": "7a30a691",
   "metadata": {},
   "outputs": [],
   "source": [
    "#Loading Image\n",
    "\n",
    "image = cv2.imread('flowerforcv.jpg')"
   ]
  },
  {
   "cell_type": "code",
   "execution_count": 4,
   "id": "ae4803c0",
   "metadata": {},
   "outputs": [],
   "source": [
    "#Display Image\n",
    "\n",
    "cv2.imshow(\"Image frame\",image)\n",
    "\n",
    "cv2.waitKey()\n",
    "\n",
    "cv2.destroyAllWindows()"
   ]
  },
  {
   "cell_type": "code",
   "execution_count": 5,
   "id": "35ede70e",
   "metadata": {},
   "outputs": [],
   "source": [
    "#Converting Colour image to Gray\n",
    "\n",
    "gray = cv2.cvtColor(image,cv2.COLOR_BGR2GRAY)"
   ]
  },
  {
   "cell_type": "code",
   "execution_count": 6,
   "id": "f5f827d9",
   "metadata": {},
   "outputs": [],
   "source": [
    "#Display Black and white Image\n",
    "\n",
    "cv2.imshow(\"Image frame\",gray)\n",
    "\n",
    "cv2.waitKey()\n",
    "\n",
    "cv2.destroyAllWindows()"
   ]
  },
  {
   "cell_type": "code",
   "execution_count": 7,
   "id": "05adaac8",
   "metadata": {},
   "outputs": [
    {
     "data": {
      "text/plain": [
       "True"
      ]
     },
     "execution_count": 7,
     "metadata": {},
     "output_type": "execute_result"
    }
   ],
   "source": [
    "#Write Image\n",
    "\n",
    "cv2.imwrite(\"GrayImage.jpg\",gray)"
   ]
  },
  {
   "cell_type": "code",
   "execution_count": 8,
   "id": "1d4a94da",
   "metadata": {},
   "outputs": [],
   "source": [
    "blurred_image = cv2.GaussianBlur(image, (5, 5), 0)\n",
    "\n",
    "# Display the blurred image\n",
    "cv2.imshow('Blurred Image', blurred_image)\n",
    "\n",
    "# Detect edges in the image using Canny edge detection\n",
    "edges = cv2.Canny(gray, 50, 500)\n",
    "\n",
    "# Display the edges\n",
    "cv2.imshow('Edges', edges)\n"
   ]
  },
  {
   "cell_type": "code",
   "execution_count": 13,
   "id": "8db2958e",
   "metadata": {},
   "outputs": [
    {
     "data": {
      "text/plain": [
       "True"
      ]
     },
     "execution_count": 13,
     "metadata": {},
     "output_type": "execute_result"
    }
   ],
   "source": [
    "# Resize the image\n",
    "\n",
    "#new dimensions\n",
    "\n",
    "new_width = 900\n",
    "\n",
    "new_height = 1500\n",
    "\n",
    "resized_image = cv2.resize(image,(new_width,new_height))\n",
    "\n",
    "cv2.imshow('Resized Image',resized_image)\n",
    "\n",
    "cv2.waitKey(0)\n",
    "\n",
    "cv2.destroyAllWindows()\n",
    "\n",
    "cv2.imwrite('resized_image.jpg',resized_image)\n"
   ]
  },
  {
   "cell_type": "code",
   "execution_count": null,
   "id": "1c0de338",
   "metadata": {},
   "outputs": [],
   "source": [
    "#Addition and Subtraction \n",
    "import cv2\n",
    "import numpy as np\n",
    "\n",
    "# Load two images\n",
    "image1 = cv2.imread('pitta1.jpg')\n",
    "image2 = cv2.imread('pitta2.jpg')\n",
    "image2 = cv2.resize(image2, (image1.shape[1], image1.shape[0]))\n",
    "\n",
    "# Add two images\n",
    "addition_result = cv2.add(image1, image2)\n",
    "\n",
    "# Subtract two images\n",
    "subtraction_result = cv2.subtract(image1, image2)\n",
    "\n",
    "# Display the images\n",
    "cv2.imshow('Image 1', image1)\n",
    "cv2.imshow('Image 2', image2)\n",
    "cv2.imshow('Addition Result', addition_result)\n",
    "cv2.imshow('Subtraction Result', subtraction_result)\n",
    "cv2.waitKey(0)\n",
    "cv2.destroyAllWindows()"
   ]
  },
  {
   "cell_type": "code",
   "execution_count": null,
   "id": "3adb78dd",
   "metadata": {},
   "outputs": [],
   "source": []
  }
 ],
 "metadata": {
  "kernelspec": {
   "display_name": "Python 3 (ipykernel)",
   "language": "python",
   "name": "python3"
  },
  "language_info": {
   "codemirror_mode": {
    "name": "ipython",
    "version": 3
   },
   "file_extension": ".py",
   "mimetype": "text/x-python",
   "name": "python",
   "nbconvert_exporter": "python",
   "pygments_lexer": "ipython3",
   "version": "3.10.4"
  }
 },
 "nbformat": 4,
 "nbformat_minor": 5
}
